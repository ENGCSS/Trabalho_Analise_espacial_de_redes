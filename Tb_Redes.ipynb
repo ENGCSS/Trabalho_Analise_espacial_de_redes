{
  "nbformat": 4,
  "nbformat_minor": 0,
  "metadata": {
    "colab": {
      "provenance": [],
      "authorship_tag": "ABX9TyPgOGUwy5+H8XrG3kXnaFOT",
      "include_colab_link": true
    },
    "kernelspec": {
      "name": "python3",
      "display_name": "Python 3"
    },
    "language_info": {
      "name": "python"
    }
  },
  "cells": [
    {
      "cell_type": "markdown",
      "metadata": {
        "id": "view-in-github",
        "colab_type": "text"
      },
      "source": [
        "<a href=\"https://colab.research.google.com/github/ENGCSS/Trabalho_Analise_espacial_de_redes/blob/main/Tb_Redes.ipynb\" target=\"_parent\"><img src=\"https://colab.research.google.com/assets/colab-badge.svg\" alt=\"Open In Colab\"/></a>"
      ]
    },
    {
      "cell_type": "code",
      "execution_count": 1,
      "metadata": {
        "id": "ZVM8TKPc2fAS",
        "outputId": "832ade8b-d8e2-426c-b3e9-b21eea8accab",
        "colab": {
          "base_uri": "https://localhost:8080/"
        }
      },
      "outputs": [
        {
          "output_type": "stream",
          "name": "stdout",
          "text": [
            "\u001b[2K   \u001b[90m━━━━━━━━━━━━━━━━━━━━━━━━━━━━━━━━━━━━━━━━\u001b[0m \u001b[32m99.4/99.4 kB\u001b[0m \u001b[31m3.7 MB/s\u001b[0m eta \u001b[36m0:00:00\u001b[0m\n",
            "\u001b[2K   \u001b[90m━━━━━━━━━━━━━━━━━━━━━━━━━━━━━━━━━━━━━━━━\u001b[0m \u001b[32m59.1/59.1 kB\u001b[0m \u001b[31m2.9 MB/s\u001b[0m eta \u001b[36m0:00:00\u001b[0m\n",
            "\u001b[?25h"
          ]
        }
      ],
      "source": [
        "# INSTALA AS BIBLIOTECAS NECESSÁRIAS\n",
        "!pip install osmnx -q                                                         # Instala a biblioteca OSMnx para análise de redes viárias e geodados\n",
        "!pip install geopandas folium matplotlib fiona -q                                   # Instala as bibliotecas GeoPandas, Folium e Matplotlib\n",
        "!pip install mapclassify -q                                                   # Instala o Mapclassify para classificação de dados espaciais"
      ]
    },
    {
      "cell_type": "code",
      "source": [
        "# IMPORTA AS BIBLIOTECAS NECESSÁRIAS\n",
        "import osmnx as ox                                                            # Biblioteca para análise de redes viárias e geodados\n",
        "import folium                                                                 # Biblioteca para criar mapas interativos\n",
        "import matplotlib.pyplot as plt                                               # Biblioteca para plotagens gráficas\n",
        "import geopandas as gpd                                                       # Biblioteca para manipulação de dados geoespaciais\n",
        "import fiona                                                                  # Biblioteca para manipulação de dados geoespaciais\n",
        "import warnings                                                               # Biblioteca para gerenciar avisos no Python\n",
        "warnings.filterwarnings(\"ignore\")                                             # Ignorar avisos para manter o console limpo"
      ],
      "metadata": {
        "id": "vlO_0isO3DNI"
      },
      "execution_count": 2,
      "outputs": []
    },
    {
      "cell_type": "code",
      "source": [
        "# Caminho para o arquivo GeoPackage\n",
        "geopackage_path = 'caminho/para/seu/arquivo.gpkg'\n",
        "\n",
        "# Listar todas as camadas no GeoPackage\n",
        "layers = fiona.listlayers(geopackage_path)\n",
        "\n",
        "# Exibir as camadas\n",
        "print(layers)\n"
      ],
      "metadata": {
        "id": "uyPfIUW3352a"
      },
      "execution_count": null,
      "outputs": []
    },
    {
      "cell_type": "code",
      "source": [
        "# Caminho para o arquivo GeoPackage\n",
        "geopackage_path = 'caminho/para/seu/arquivo.gpkg'\n",
        "\n",
        "# Nome da camada que você deseja extrair\n",
        "layer_name = 'nome_da_camada'\n",
        "\n",
        "# Ler a camada específica do GeoPackage\n",
        "gdf = gpd.read_file(geopackage_path, layer=layer_name)\n",
        "\n",
        "# Exibir as primeiras linhas do GeoDataFrame\n",
        "print(gdf.head())\n"
      ],
      "metadata": {
        "id": "EhaTW4Kf38qt"
      },
      "execution_count": null,
      "outputs": []
    }
  ]
}